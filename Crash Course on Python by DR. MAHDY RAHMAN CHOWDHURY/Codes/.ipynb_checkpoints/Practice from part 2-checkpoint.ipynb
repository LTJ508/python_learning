{
 "cells": [
  {
   "cell_type": "markdown",
   "id": "b415b174-4126-4325-a25c-d317dd5e19a3",
   "metadata": {},
   "source": [
    "# List Slicing Practice"
   ]
  },
  {
   "cell_type": "code",
   "execution_count": 1,
   "id": "80acddd1-259d-438b-98d2-c7b6dd5d4454",
   "metadata": {},
   "outputs": [],
   "source": [
    "new_list = [0, 1, 2, 3, 4, 5] #defining an array or list"
   ]
  },
  {
   "cell_type": "code",
   "execution_count": 2,
   "id": "88f9b330-01b3-4648-ade3-54d8f764e714",
   "metadata": {},
   "outputs": [
    {
     "data": {
      "text/plain": [
       "[0, 1, 2, 3, 4, 5]"
      ]
     },
     "execution_count": 2,
     "metadata": {},
     "output_type": "execute_result"
    }
   ],
   "source": [
    "new_list"
   ]
  },
  {
   "cell_type": "code",
   "execution_count": 3,
   "id": "49a3bb1b-fe39-4fe9-8785-c32340890654",
   "metadata": {},
   "outputs": [
    {
     "data": {
      "text/plain": [
       "4"
      ]
     },
     "execution_count": 3,
     "metadata": {},
     "output_type": "execute_result"
    }
   ],
   "source": [
    "new_list[4]"
   ]
  },
  {
   "cell_type": "markdown",
   "id": "a87f516c-0444-47c2-b2a1-b92db4a004ba",
   "metadata": {},
   "source": [
    "## index 2 is included at the same time excluded also\n",
    "result an empty array"
   ]
  },
  {
   "cell_type": "code",
   "execution_count": 4,
   "id": "02e58e5f-2e89-40c5-93fb-fb9b9dd698bf",
   "metadata": {},
   "outputs": [
    {
     "data": {
      "text/plain": [
       "[]"
      ]
     },
     "execution_count": 4,
     "metadata": {},
     "output_type": "execute_result"
    }
   ],
   "source": [
    "new_list[2:2]"
   ]
  },
  {
   "cell_type": "code",
   "execution_count": null,
   "id": "91a01401-8bf5-4869-9a6e-51121c7832e0",
   "metadata": {},
   "outputs": [],
   "source": []
  }
 ],
 "metadata": {
  "kernelspec": {
   "display_name": "Python 3 (ipykernel)",
   "language": "python",
   "name": "python3"
  },
  "language_info": {
   "codemirror_mode": {
    "name": "ipython",
    "version": 3
   },
   "file_extension": ".py",
   "mimetype": "text/x-python",
   "name": "python",
   "nbconvert_exporter": "python",
   "pygments_lexer": "ipython3",
   "version": "3.12.1"
  }
 },
 "nbformat": 4,
 "nbformat_minor": 5
}
