{
 "cells": [
  {
   "cell_type": "markdown",
   "id": "b415b174-4126-4325-a25c-d317dd5e19a3",
   "metadata": {},
   "source": [
    "# List Slicing Practice"
   ]
  },
  {
   "cell_type": "code",
   "execution_count": 81,
   "id": "80acddd1-259d-438b-98d2-c7b6dd5d4454",
   "metadata": {},
   "outputs": [],
   "source": [
    "new_list = [0, 1, 2, 3, 4, 5] #defining an array or list"
   ]
  },
  {
   "cell_type": "code",
   "execution_count": 82,
   "id": "88f9b330-01b3-4648-ade3-54d8f764e714",
   "metadata": {},
   "outputs": [
    {
     "data": {
      "text/plain": [
       "[0, 1, 2, 3, 4, 5]"
      ]
     },
     "execution_count": 82,
     "metadata": {},
     "output_type": "execute_result"
    }
   ],
   "source": [
    "new_list"
   ]
  },
  {
   "cell_type": "code",
   "execution_count": 83,
   "id": "49a3bb1b-fe39-4fe9-8785-c32340890654",
   "metadata": {},
   "outputs": [
    {
     "data": {
      "text/plain": [
       "4"
      ]
     },
     "execution_count": 83,
     "metadata": {},
     "output_type": "execute_result"
    }
   ],
   "source": [
    "new_list[4]"
   ]
  },
  {
   "cell_type": "markdown",
   "id": "a87f516c-0444-47c2-b2a1-b92db4a004ba",
   "metadata": {},
   "source": [
    "## index 2 is included at the same time excluded also\n",
    "result an empty array"
   ]
  },
  {
   "cell_type": "code",
   "execution_count": 84,
   "id": "02e58e5f-2e89-40c5-93fb-fb9b9dd698bf",
   "metadata": {},
   "outputs": [
    {
     "data": {
      "text/plain": [
       "[]"
      ]
     },
     "execution_count": 84,
     "metadata": {},
     "output_type": "execute_result"
    }
   ],
   "source": [
    "new_list[2:2]"
   ]
  },
  {
   "cell_type": "markdown",
   "id": "52d7691b-dae3-4a1d-bebe-9b6ce4fd74cc",
   "metadata": {},
   "source": [
    "# negative index"
   ]
  },
  {
   "cell_type": "code",
   "execution_count": 85,
   "id": "253ee9c1-1f87-4bae-be59-08eed5e07119",
   "metadata": {},
   "outputs": [
    {
     "data": {
      "text/plain": [
       "2"
      ]
     },
     "execution_count": 85,
     "metadata": {},
     "output_type": "execute_result"
    }
   ],
   "source": [
    "new_list[-4]"
   ]
  },
  {
   "cell_type": "markdown",
   "id": "167c9cc3-2376-4f23-92b1-52fa728cad05",
   "metadata": {},
   "source": [
    "# length = 6\n",
    "-4 = length - 4 = 2\\\n",
    "-5 = length - 5 = 1\\\n",
    "-1 = length - 1 = 5\\\n",
    "-0 = length - 0 = 6 = out of index limit => but its also work as index 0\\\n",
    "-7 = length - 7 = -1 = invalid index"
   ]
  },
  {
   "cell_type": "code",
   "execution_count": 86,
   "id": "6407be03-d035-4e69-86c1-dfc54c618e36",
   "metadata": {},
   "outputs": [
    {
     "data": {
      "text/plain": [
       "0"
      ]
     },
     "execution_count": 86,
     "metadata": {},
     "output_type": "execute_result"
    }
   ],
   "source": [
    "new_list[-0]"
   ]
  },
  {
   "cell_type": "code",
   "execution_count": 87,
   "id": "0c2cf119-8b01-4b55-baf5-6724eef2d7cc",
   "metadata": {},
   "outputs": [],
   "source": [
    "#new_list[-7]"
   ]
  },
  {
   "cell_type": "code",
   "execution_count": 88,
   "id": "31908c84-c836-49a2-a009-77e0f3f35802",
   "metadata": {},
   "outputs": [
    {
     "data": {
      "text/plain": [
       "[]"
      ]
     },
     "execution_count": 88,
     "metadata": {},
     "output_type": "execute_result"
    }
   ],
   "source": [
    "new_list[1:-5]"
   ]
  },
  {
   "cell_type": "code",
   "execution_count": 89,
   "id": "a60f56bc-52e7-4b17-847b-e4ee3a1650d9",
   "metadata": {},
   "outputs": [
    {
     "data": {
      "text/plain": [
       "[0, 2, 4]"
      ]
     },
     "execution_count": 89,
     "metadata": {},
     "output_type": "execute_result"
    }
   ],
   "source": [
    "new_list[0:6:2]"
   ]
  },
  {
   "cell_type": "code",
   "execution_count": 90,
   "id": "c97dd055-0303-48d0-9313-eb68fa5e8705",
   "metadata": {},
   "outputs": [
    {
     "data": {
      "text/plain": [
       "[]"
      ]
     },
     "execution_count": 90,
     "metadata": {},
     "output_type": "execute_result"
    }
   ],
   "source": [
    "new_list[0:6:-1]"
   ]
  },
  {
   "cell_type": "code",
   "execution_count": 91,
   "id": "53570eb5-5cd1-4b14-a51d-f68b47a08475",
   "metadata": {},
   "outputs": [
    {
     "data": {
      "text/plain": [
       "[]"
      ]
     },
     "execution_count": 91,
     "metadata": {},
     "output_type": "execute_result"
    }
   ],
   "source": [
    "new_list[0:6:-3]"
   ]
  },
  {
   "cell_type": "code",
   "execution_count": 92,
   "id": "decb02cd-a9b2-41e3-9202-b3597f0d71b2",
   "metadata": {},
   "outputs": [
    {
     "data": {
      "text/plain": [
       "[5, 4, 3, 2, 1, 0]"
      ]
     },
     "execution_count": 92,
     "metadata": {},
     "output_type": "execute_result"
    }
   ],
   "source": [
    "new_list[6::-1]"
   ]
  },
  {
   "cell_type": "code",
   "execution_count": 93,
   "id": "271b5c81-e29d-46b3-b571-aaa84cefc09f",
   "metadata": {},
   "outputs": [],
   "source": [
    "new_list[1:4] = [10]"
   ]
  },
  {
   "cell_type": "code",
   "execution_count": 94,
   "id": "5f31438a-b88f-4704-aeec-39a7842141e7",
   "metadata": {},
   "outputs": [
    {
     "data": {
      "text/plain": [
       "[0, 10, 4, 5]"
      ]
     },
     "execution_count": 94,
     "metadata": {},
     "output_type": "execute_result"
    }
   ],
   "source": [
    "new_list"
   ]
  },
  {
   "cell_type": "code",
   "execution_count": null,
   "id": "94d4616a-68cb-49ee-aaa1-b7410e84aab9",
   "metadata": {},
   "outputs": [],
   "source": []
  }
 ],
 "metadata": {
  "kernelspec": {
   "display_name": "Python 3 (ipykernel)",
   "language": "python",
   "name": "python3"
  },
  "language_info": {
   "codemirror_mode": {
    "name": "ipython",
    "version": 3
   },
   "file_extension": ".py",
   "mimetype": "text/x-python",
   "name": "python",
   "nbconvert_exporter": "python",
   "pygments_lexer": "ipython3",
   "version": "3.12.1"
  }
 },
 "nbformat": 4,
 "nbformat_minor": 5
}
