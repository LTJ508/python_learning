{
 "cells": [
  {
   "cell_type": "markdown",
   "id": "402993c5-5ccb-46f1-b07c-bc159508bfe2",
   "metadata": {},
   "source": [
    "# GitHub Push from Jupyter Lab Directly"
   ]
  },
  {
   "cell_type": "markdown",
   "id": "0d967b38-3f97-4092-b435-4e7edc8530a3",
   "metadata": {},
   "source": [
    "!git add .\n",
    "!git commit -m \"Practiced OOP, inheritance and done with the crash course\"\n",
    "!git push origin main"
   ]
  },
  {
   "cell_type": "markdown",
   "id": "f6a2c1f7-2d33-428c-95f6-6cecb3fab9d5",
   "metadata": {},
   "source": []
  }
 ],
 "metadata": {
  "kernelspec": {
   "display_name": "Python 3 (ipykernel)",
   "language": "python",
   "name": "python3"
  },
  "language_info": {
   "codemirror_mode": {
    "name": "ipython",
    "version": 3
   },
   "file_extension": ".py",
   "mimetype": "text/x-python",
   "name": "python",
   "nbconvert_exporter": "python",
   "pygments_lexer": "ipython3",
   "version": "3.12.1"
  }
 },
 "nbformat": 4,
 "nbformat_minor": 5
}
