{
 "cells": [
  {
   "cell_type": "markdown",
   "id": "402993c5-5ccb-46f1-b07c-bc159508bfe2",
   "metadata": {},
   "source": [
    "# GitHub Push from Jupyter Lab Directly"
   ]
  },
  {
   "cell_type": "markdown",
   "id": "b1107183-d262-475b-9cc7-02c9bec728fd",
   "metadata": {},
   "source": [
    "!git add .\n",
    "!git commit -m \"Practiced control flow, funtion, start of oop\"\n",
    "!git push origin main"
   ]
  },
  {
   "cell_type": "code",
   "execution_count": null,
   "id": "fe923c28-4324-4b96-8ce7-a6774d6c8fe5",
   "metadata": {},
   "outputs": [],
   "source": []
  }
 ],
 "metadata": {
  "kernelspec": {
   "display_name": "Python 3 (ipykernel)",
   "language": "python",
   "name": "python3"
  },
  "language_info": {
   "codemirror_mode": {
    "name": "ipython",
    "version": 3
   },
   "file_extension": ".py",
   "mimetype": "text/x-python",
   "name": "python",
   "nbconvert_exporter": "python",
   "pygments_lexer": "ipython3",
   "version": "3.12.1"
  }
 },
 "nbformat": 4,
 "nbformat_minor": 5
}
