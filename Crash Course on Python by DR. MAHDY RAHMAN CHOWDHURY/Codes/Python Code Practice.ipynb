{
 "cells": [
  {
   "cell_type": "markdown",
   "id": "db053b8f-81d1-456c-87c7-7deecb83a55d",
   "metadata": {},
   "source": [
    "# Crash Course on Python by DR. MAHDY RAHMAN CHOWDHURY"
   ]
  },
  {
   "cell_type": "markdown",
   "id": "d5698cd1-e565-4244-a6aa-847644a690f3",
   "metadata": {},
   "source": [
    "# Variable and DataType"
   ]
  },
  {
   "cell_type": "code",
   "execution_count": 1,
   "id": "d3ea494a-8845-489c-89e3-3159c28f422b",
   "metadata": {},
   "outputs": [
    {
     "name": "stdout",
     "output_type": "stream",
     "text": [
      "5\n",
      "<class 'int'>\n",
      "4.5\n",
      "<class 'float'>\n",
      "My Name is Joy\n",
      "<class 'str'>\n",
      "True\n",
      "<class 'bool'>\n"
     ]
    }
   ],
   "source": [
    "# Variable assignment\n",
    "var = 5 #now its integer\n",
    "print(var)\n",
    "print(type(var))\n",
    "\n",
    "var = 4.5 #now its float\n",
    "print(var)\n",
    "print(type(var))\n",
    "\n",
    "var = \"My Name is Joy\" #now its string\n",
    "print(var)\n",
    "print(type(var))\n",
    "\n",
    "var = True #now it will working as a boolean value\n",
    "print(var)\n",
    "print(type(var))\n",
    "\n",
    "\n",
    "# in python, when we use a variable, last defined data will be used"
   ]
  },
  {
   "cell_type": "markdown",
   "id": "362aed27-7f33-4cbf-aefb-8cae7dc5c112",
   "metadata": {},
   "source": [
    "## In python, we don't need to define the datatype, Python karnel automatically detect the datatype"
   ]
  },
  {
   "cell_type": "markdown",
   "id": "4488a9fd-5995-4716-87ca-75f3aaf6a4f6",
   "metadata": {},
   "source": [
    "## there are two kinds of variable\n",
    "1. Local Variable => variable defined in a function, and access limited to the defined function only\n",
    "2. Global Variable => varaible defined in out of all function, can be access from any function"
   ]
  },
  {
   "cell_type": "code",
   "execution_count": 2,
   "id": "5a333c6c-a826-4466-b30e-29eefea804f1",
   "metadata": {},
   "outputs": [
    {
     "name": "stdout",
     "output_type": "stream",
     "text": [
      "Sum from Function1:  15\n",
      "Sum from Function2:  20\n"
     ]
    }
   ],
   "source": [
    "a = 10 #global variable, it can be access from any function\n",
    "\n",
    "def function1():\n",
    "    b = 5 #local variable for function 1, outside of this function no one can access b\n",
    "    sum = a + b #this sum is local variable for this function, here a is global variable, thats why we can get access to it\n",
    "    print(\"Sum from Function1: \", sum) #printing the local variable sum\n",
    "\n",
    "def function2(): #defining another function\n",
    "    c = 10 #local variable for this function\n",
    "    sum = a + c #a is global and c is local, we can't access b from this function, because b is local variable of function1\n",
    "    print(\"Sum from Function2: \", sum) #printing local variable sum of this function\n",
    "\n",
    "\n",
    "function1() #calling the function\n",
    "function2() #calling the function"
   ]
  },
  {
   "cell_type": "markdown",
   "id": "62930f66-2609-4777-9e49-f5837d128f4e",
   "metadata": {},
   "source": [
    "# Data Structure"
   ]
  },
  {
   "cell_type": "markdown",
   "id": "c10880b5-d55a-4d2a-91f6-1b1f4c8e05bb",
   "metadata": {},
   "source": [
    "## List"
   ]
  },
  {
   "cell_type": "code",
   "execution_count": 3,
   "id": "bc186064-366a-4469-b3ec-204bbbeb1d29",
   "metadata": {},
   "outputs": [
    {
     "name": "stdout",
     "output_type": "stream",
     "text": [
      "4\n",
      "0\n"
     ]
    },
    {
     "data": {
      "text/plain": [
       "[0, 1, 2, 3, 4, 5]"
      ]
     },
     "execution_count": 3,
     "metadata": {},
     "output_type": "execute_result"
    }
   ],
   "source": [
    "myList = [0, 1, 2, 3, 4, 5] #defining list\n",
    "print(myList[4]) #List acces by index number\n",
    "print(myList[0]) #acess by index\n",
    "myList #print entire list"
   ]
  },
  {
   "cell_type": "markdown",
   "id": "f7825fd2-6b69-48b7-8038-91db70129242",
   "metadata": {},
   "source": [
    "## List Slicing operation\n",
    "myList[ starting index included : Ending index excluded ]"
   ]
  },
  {
   "cell_type": "code",
   "execution_count": 4,
   "id": "352a6257-5151-4c3f-b71e-7ce0dd0e6d6b",
   "metadata": {},
   "outputs": [
    {
     "data": {
      "text/plain": [
       "[0, 1, 2, 3, 4, 5]"
      ]
     },
     "execution_count": 4,
     "metadata": {},
     "output_type": "execute_result"
    }
   ],
   "source": [
    "myList[:] #printing entire list"
   ]
  },
  {
   "cell_type": "code",
   "execution_count": 5,
   "id": "2c6680d3-5398-489e-b75a-f3dabf105ffe",
   "metadata": {},
   "outputs": [
    {
     "data": {
      "text/plain": [
       "[0, 1, 2, 3]"
      ]
     },
     "execution_count": 5,
     "metadata": {},
     "output_type": "execute_result"
    }
   ],
   "source": [
    "myList[0:4] #printing frim index 0 to 3"
   ]
  },
  {
   "cell_type": "code",
   "execution_count": 6,
   "id": "4491d500-ee1f-4a2c-96c1-61d7ea9fd5fb",
   "metadata": {},
   "outputs": [
    {
     "data": {
      "text/plain": [
       "[0, 1, 2]"
      ]
     },
     "execution_count": 6,
     "metadata": {},
     "output_type": "execute_result"
    }
   ],
   "source": [
    "myList[:3] #printing from starting index(as not defined start with 0) to 2"
   ]
  },
  {
   "cell_type": "code",
   "execution_count": 7,
   "id": "577e3851-22b7-4c7f-9309-db2eee2a86dd",
   "metadata": {},
   "outputs": [
    {
     "data": {
      "text/plain": [
       "[4, 5]"
      ]
     },
     "execution_count": 7,
     "metadata": {},
     "output_type": "execute_result"
    }
   ],
   "source": [
    "myList[4:] #Start with 4 but end with the last index as it is defined"
   ]
  },
  {
   "cell_type": "code",
   "execution_count": 8,
   "id": "0cc1239d-31c4-4890-918e-fde5f62218d7",
   "metadata": {},
   "outputs": [
    {
     "data": {
      "text/plain": [
       "[]"
      ]
     },
     "execution_count": 8,
     "metadata": {},
     "output_type": "execute_result"
    }
   ],
   "source": [
    "myList[2:2] #as ending index is exclueded, it will print empty list"
   ]
  },
  {
   "cell_type": "code",
   "execution_count": 9,
   "id": "9d64309b-43af-419d-835f-12c8375b13d4",
   "metadata": {},
   "outputs": [
    {
     "data": {
      "text/plain": [
       "[4, 5]"
      ]
     },
     "execution_count": 9,
     "metadata": {},
     "output_type": "execute_result"
    }
   ],
   "source": [
    "myList[4:10] #you can see, as there is no index after 6, it just omited the iteration and print up to 6"
   ]
  },
  {
   "cell_type": "markdown",
   "id": "f5c59c80-2d6f-4804-b42a-02698f855690",
   "metadata": {},
   "source": [
    "## slicing with negative index\n",
    "myList [ - index] = length of list - given index"
   ]
  },
  {
   "cell_type": "code",
   "execution_count": 10,
   "id": "909112c9-cd48-45b9-83bc-b58debc2ce62",
   "metadata": {},
   "outputs": [
    {
     "data": {
      "text/plain": [
       "2"
      ]
     },
     "execution_count": 10,
     "metadata": {},
     "output_type": "execute_result"
    }
   ],
   "source": [
    "myList[-4] #as our list have a length of 6, it will print 6-4=2"
   ]
  },
  {
   "cell_type": "code",
   "execution_count": 11,
   "id": "657f6a44-b946-446a-a58c-0ad312736033",
   "metadata": {},
   "outputs": [
    {
     "data": {
      "text/plain": [
       "3"
      ]
     },
     "execution_count": 11,
     "metadata": {},
     "output_type": "execute_result"
    }
   ],
   "source": [
    "myList[-3]"
   ]
  },
  {
   "cell_type": "code",
   "execution_count": 12,
   "id": "d23023c4-193f-4fd6-a60f-a6b42650a963",
   "metadata": {},
   "outputs": [
    {
     "data": {
      "text/plain": [
       "0"
      ]
     },
     "execution_count": 12,
     "metadata": {},
     "output_type": "execute_result"
    }
   ],
   "source": [
    "myList[-0] #as 0 is not negative number, it will print the index 0 instead"
   ]
  },
  {
   "cell_type": "code",
   "execution_count": 13,
   "id": "a8944947-ac06-4c8c-9284-9b7025c4ad81",
   "metadata": {},
   "outputs": [],
   "source": [
    "#myList[-7] #6-7=-1 out of index, this will not run, commenting the entire code"
   ]
  },
  {
   "cell_type": "markdown",
   "id": "f6117711-66ab-4d98-86f1-30f9e739c60d",
   "metadata": {},
   "source": [
    "## combining positive and negative slicing"
   ]
  },
  {
   "cell_type": "code",
   "execution_count": 14,
   "id": "46fa278a-b6f8-4d60-8f53-12fbb8963c32",
   "metadata": {},
   "outputs": [
    {
     "data": {
      "text/plain": [
       "[]"
      ]
     },
     "execution_count": 14,
     "metadata": {},
     "output_type": "execute_result"
    }
   ],
   "source": [
    "myList[1:-5] #start with 1 end with 6-5=1(exclueded), so it will print empty list"
   ]
  },
  {
   "cell_type": "code",
   "execution_count": 15,
   "id": "49f3b15d-3caf-449c-b547-b1a40c1688a3",
   "metadata": {},
   "outputs": [
    {
     "data": {
      "text/plain": [
       "[1]"
      ]
     },
     "execution_count": 15,
     "metadata": {},
     "output_type": "execute_result"
    }
   ],
   "source": [
    "myList[1:-4] #start with 1 and end with 6-4=2(excluded)"
   ]
  },
  {
   "cell_type": "markdown",
   "id": "9d33acbe-8cb4-40b8-a75b-d689de5a1297",
   "metadata": {},
   "source": [
    "## slicing with interval\n",
    "myList [ **start index : end index excluded : interval or difference**]"
   ]
  },
  {
   "cell_type": "code",
   "execution_count": 16,
   "id": "b3a79c19-c94d-4187-96ce-7bc5a0df7199",
   "metadata": {},
   "outputs": [
    {
     "data": {
      "text/plain": [
       "[0, 2, 4]"
      ]
     },
     "execution_count": 16,
     "metadata": {},
     "output_type": "execute_result"
    }
   ],
   "source": [
    "myList[0:6:2] # start with 0 end with 6 but exluded and every time it will ise the interval 2"
   ]
  },
  {
   "cell_type": "code",
   "execution_count": 17,
   "id": "5087b5f8-099b-487a-bb9c-5721bd4b7dfb",
   "metadata": {},
   "outputs": [
    {
     "data": {
      "text/plain": [
       "[5, 4, 3, 2, 1]"
      ]
     },
     "execution_count": 17,
     "metadata": {},
     "output_type": "execute_result"
    }
   ],
   "source": [
    "myList[6:0:-1] #it will reverse the list as it start eith the last index and end with the first index and the interval is -1"
   ]
  },
  {
   "cell_type": "markdown",
   "id": "7c1ae204-ec04-4074-9c95-a9677f23a743",
   "metadata": {},
   "source": [
    "## Extend a list and modification of list"
   ]
  },
  {
   "cell_type": "code",
   "execution_count": 18,
   "id": "c042daf2-ebe2-430c-90ae-62d81901e7df",
   "metadata": {},
   "outputs": [
    {
     "data": {
      "text/plain": [
       "[0, 1, 2, 3, 4, 5]"
      ]
     },
     "execution_count": 18,
     "metadata": {},
     "output_type": "execute_result"
    }
   ],
   "source": [
    "newList = myList.copy() #copy the list to newList\n",
    "newList"
   ]
  },
  {
   "cell_type": "code",
   "execution_count": 19,
   "id": "09060d5a-a86e-4e0a-9be6-9ec22bdd9e9a",
   "metadata": {},
   "outputs": [
    {
     "data": {
      "text/plain": [
       "[0, 1, 2, 3, 4, 5, 10]"
      ]
     },
     "execution_count": 19,
     "metadata": {},
     "output_type": "execute_result"
    }
   ],
   "source": [
    "newList.append(10) #adding 10 at the end index\n",
    "newList"
   ]
  },
  {
   "cell_type": "code",
   "execution_count": 20,
   "id": "e51972cb-117b-48d3-809e-2cf7cd063de6",
   "metadata": {},
   "outputs": [
    {
     "data": {
      "text/plain": [
       "[0, 1, 2, 3, 4, 5, 10, 20]"
      ]
     },
     "execution_count": 20,
     "metadata": {},
     "output_type": "execute_result"
    }
   ],
   "source": [
    "newList = newList + [20] #adding 20 at the end index\n",
    "newList"
   ]
  },
  {
   "cell_type": "code",
   "execution_count": 21,
   "id": "9b9b93d0-329e-48a6-bdb1-2b89fc502c1e",
   "metadata": {},
   "outputs": [
    {
     "data": {
      "text/plain": [
       "[0, 1, 2, 3, 4, 5, 10, 20, 0, 1, 2, 3, 4, 5]"
      ]
     },
     "execution_count": 21,
     "metadata": {},
     "output_type": "execute_result"
    }
   ],
   "source": [
    "newList = newList + myList #adding two list\n",
    "newList"
   ]
  },
  {
   "cell_type": "markdown",
   "id": "465f88b7-9664-4803-995e-df5597e81e9b",
   "metadata": {},
   "source": [
    "## adding new item in a specific index"
   ]
  },
  {
   "cell_type": "code",
   "execution_count": 22,
   "id": "4e393f62-27ce-492e-839b-2a86396b2608",
   "metadata": {},
   "outputs": [
    {
     "data": {
      "text/plain": [
       "[0, 1, 2, 3, 4, 5]"
      ]
     },
     "execution_count": 22,
     "metadata": {},
     "output_type": "execute_result"
    }
   ],
   "source": [
    "newList = myList.copy() #copy the list to newList\n",
    "newList"
   ]
  },
  {
   "cell_type": "code",
   "execution_count": 23,
   "id": "b59e852a-c61c-402a-9ff9-07d6a9acdf5b",
   "metadata": {},
   "outputs": [
    {
     "data": {
      "text/plain": [
       "[0, 1, 2, 3, 10, 4, 5]"
      ]
     },
     "execution_count": 23,
     "metadata": {},
     "output_type": "execute_result"
    }
   ],
   "source": [
    "newList[4:4] = [10] #as we know normally this range will give empty list, but the pointer exist in the index 4\n",
    "                    #new item will place there and the other item will shift to the right\n",
    "newList"
   ]
  },
  {
   "cell_type": "code",
   "execution_count": 24,
   "id": "ea6aa113-a470-404d-901f-d1f55a81778f",
   "metadata": {},
   "outputs": [
    {
     "data": {
      "text/plain": [
       "[0, 1, 10, 10, 4, 5]"
      ]
     },
     "execution_count": 24,
     "metadata": {},
     "output_type": "execute_result"
    }
   ],
   "source": [
    "newList[2:4] = [10] #as this return the index 2 and 3, so this assignment operator will remove thes index and place 10\n",
    "newList"
   ]
  },
  {
   "cell_type": "markdown",
   "id": "b4a44198-605c-4900-85a0-606089cd5d65",
   "metadata": {},
   "source": [
    "## some method use in list"
   ]
  },
  {
   "cell_type": "code",
   "execution_count": 25,
   "id": "8a5fed21-b955-42fe-aa4f-79aeb4b91d10",
   "metadata": {},
   "outputs": [
    {
     "data": {
      "text/plain": [
       "[10, 20, 30, 30, 40, 50, 80]"
      ]
     },
     "execution_count": 25,
     "metadata": {},
     "output_type": "execute_result"
    }
   ],
   "source": [
    "newList = [10, 20, 30, 30, 40, 50, 80] #total 7 item, containing a duplicate item\n",
    "newList"
   ]
  },
  {
   "cell_type": "code",
   "execution_count": 26,
   "id": "169d3138-9332-44e2-82e2-dfd3f8b1ac82",
   "metadata": {},
   "outputs": [
    {
     "data": {
      "text/plain": [
       "[10, 20, 30, 30, 40, 50, 80, 90]"
      ]
     },
     "execution_count": 26,
     "metadata": {},
     "output_type": "execute_result"
    }
   ],
   "source": [
    "newList.append(90) #adding new item at the last index\n",
    "newList"
   ]
  },
  {
   "cell_type": "code",
   "execution_count": 27,
   "id": "cd3f6a60-af96-43c6-8f5a-c20ebb3d9eaf",
   "metadata": {},
   "outputs": [
    {
     "data": {
      "text/plain": [
       "[10, 20, 30, 30, 40, 50, 80]"
      ]
     },
     "execution_count": 27,
     "metadata": {},
     "output_type": "execute_result"
    }
   ],
   "source": [
    "newList.remove(90) #remove the given content where it first appear\n",
    "newList"
   ]
  },
  {
   "cell_type": "code",
   "execution_count": 28,
   "id": "7f07bff1-e88b-4549-8cf1-5dfa20ce7787",
   "metadata": {},
   "outputs": [
    {
     "data": {
      "text/plain": [
       "2"
      ]
     },
     "execution_count": 28,
     "metadata": {},
     "output_type": "execute_result"
    }
   ],
   "source": [
    "newList.count(30) #count the number of given elements in a list"
   ]
  },
  {
   "cell_type": "code",
   "execution_count": 29,
   "id": "61203fda-5d80-4147-acf5-04a6d3322d25",
   "metadata": {},
   "outputs": [
    {
     "data": {
      "text/plain": [
       "2"
      ]
     },
     "execution_count": 29,
     "metadata": {},
     "output_type": "execute_result"
    }
   ],
   "source": [
    "newList.index(30) #return the index number where the given content first appear"
   ]
  },
  {
   "cell_type": "code",
   "execution_count": 30,
   "id": "73314e1a-90ed-45d3-9523-a35f196de218",
   "metadata": {},
   "outputs": [
    {
     "data": {
      "text/plain": [
       "30"
      ]
     },
     "execution_count": 30,
     "metadata": {},
     "output_type": "execute_result"
    }
   ],
   "source": [
    "newList.pop(2) #returnt the content and remove as the given index"
   ]
  },
  {
   "cell_type": "code",
   "execution_count": 31,
   "id": "63fce510-bb3f-4d0f-ba7d-20bdf3ffd940",
   "metadata": {},
   "outputs": [
    {
     "data": {
      "text/plain": [
       "[10, 20, 30, 40, 50, 80]"
      ]
     },
     "execution_count": 31,
     "metadata": {},
     "output_type": "execute_result"
    }
   ],
   "source": [
    "newList"
   ]
  },
  {
   "cell_type": "code",
   "execution_count": 32,
   "id": "426b3c51-35e9-4522-abdf-db19dffcc045",
   "metadata": {},
   "outputs": [
    {
     "data": {
      "text/plain": [
       "80"
      ]
     },
     "execution_count": 32,
     "metadata": {},
     "output_type": "execute_result"
    }
   ],
   "source": [
    "newList.pop() #if not defined then it will pop from the ending index"
   ]
  },
  {
   "cell_type": "code",
   "execution_count": 33,
   "id": "71d1516b-4cf1-46b8-8c3c-dbe83cb2e2f3",
   "metadata": {},
   "outputs": [
    {
     "data": {
      "text/plain": [
       "[10, 20, 30, 40, 50]"
      ]
     },
     "execution_count": 33,
     "metadata": {},
     "output_type": "execute_result"
    }
   ],
   "source": [
    "newList"
   ]
  },
  {
   "cell_type": "code",
   "execution_count": 34,
   "id": "6ddd7c1e-db3b-41ad-b71a-303423191e9a",
   "metadata": {},
   "outputs": [
    {
     "data": {
      "text/plain": [
       "[10, 20, 35, 30, 40, 50]"
      ]
     },
     "execution_count": 34,
     "metadata": {},
     "output_type": "execute_result"
    }
   ],
   "source": [
    "newList.insert(2, 35) #insert the content 35 at the index 2 and other are shift to the right\n",
    "newList"
   ]
  },
  {
   "cell_type": "code",
   "execution_count": 35,
   "id": "6253d328-d49e-4a60-aba4-8bec02701d10",
   "metadata": {},
   "outputs": [
    {
     "data": {
      "text/plain": [
       "[50, 40, 30, 35, 20, 10]"
      ]
     },
     "execution_count": 35,
     "metadata": {},
     "output_type": "execute_result"
    }
   ],
   "source": [
    "newList.reverse() #it will reverse the list\n",
    "newList"
   ]
  },
  {
   "cell_type": "code",
   "execution_count": 36,
   "id": "0fbf932a-07de-46d7-843d-bc00daeacbc9",
   "metadata": {},
   "outputs": [
    {
     "data": {
      "text/plain": [
       "[10, 20, 30, 35, 40, 50]"
      ]
     },
     "execution_count": 36,
     "metadata": {},
     "output_type": "execute_result"
    }
   ],
   "source": [
    "newList.sort() #it will sort the list\n",
    "newList"
   ]
  },
  {
   "cell_type": "code",
   "execution_count": 37,
   "id": "4bb57950-c5ec-4bd6-b7b0-eb8b1841873b",
   "metadata": {},
   "outputs": [
    {
     "data": {
      "text/plain": [
       "[]"
      ]
     },
     "execution_count": 37,
     "metadata": {},
     "output_type": "execute_result"
    }
   ],
   "source": [
    "newList.clear() #it will remove all content from the list and make empty list\n",
    "newList"
   ]
  },
  {
   "cell_type": "markdown",
   "id": "88188081-e330-477d-91ff-a6c1805fd081",
   "metadata": {},
   "source": [
    "# Tuple\n",
    "same as List, one difference is in syntax, tuple use () for data\\\n",
    "also tuple is not changeable"
   ]
  },
  {
   "cell_type": "code",
   "execution_count": 38,
   "id": "07617e0d-3750-4a3b-8c83-d1041e8ce3ab",
   "metadata": {},
   "outputs": [
    {
     "data": {
      "text/plain": [
       "(0, 1, 2, 3, 4, 5)"
      ]
     },
     "execution_count": 38,
     "metadata": {},
     "output_type": "execute_result"
    }
   ],
   "source": [
    "myTuple = (0, 1, 2, 3, 4, 5) #defining a tuple\n",
    "myTuple #printing tuple"
   ]
  },
  {
   "cell_type": "code",
   "execution_count": 39,
   "id": "a7e066f6-9975-47fb-b288-1b32f1eea0d6",
   "metadata": {},
   "outputs": [
    {
     "data": {
      "text/plain": [
       "2"
      ]
     },
     "execution_count": 39,
     "metadata": {},
     "output_type": "execute_result"
    }
   ],
   "source": [
    "myTuple[2] #accesing tuple by index"
   ]
  },
  {
   "cell_type": "code",
   "execution_count": 40,
   "id": "a8bdb34f-c38a-4181-8dc1-cf21e6344d4a",
   "metadata": {},
   "outputs": [
    {
     "data": {
      "text/plain": [
       "(2, 3, 4, 5)"
      ]
     },
     "execution_count": 40,
     "metadata": {},
     "output_type": "execute_result"
    }
   ],
   "source": [
    "myTuple[2:6] #slicing of tuple like list"
   ]
  },
  {
   "cell_type": "code",
   "execution_count": 41,
   "id": "149d5097-c43c-4987-97c3-d9d14e8afbdf",
   "metadata": {},
   "outputs": [],
   "source": [
    "#myTuple[2] = (5) #error, tuple is not changeable"
   ]
  },
  {
   "cell_type": "markdown",
   "id": "fdfaa38f-0557-4594-9c15-015b18bb9ea8",
   "metadata": {},
   "source": [
    "## method of tuple"
   ]
  },
  {
   "cell_type": "code",
   "execution_count": 42,
   "id": "8842b1d2-ed64-4c43-a6da-95f7f274fdf6",
   "metadata": {},
   "outputs": [
    {
     "data": {
      "text/plain": [
       "(10, 20, 30, 30, 40, 50)"
      ]
     },
     "execution_count": 42,
     "metadata": {},
     "output_type": "execute_result"
    }
   ],
   "source": [
    "myTuple = (10, 20, 30, 30, 40, 50) #defining tuple with duplicate item\n",
    "myTuple"
   ]
  },
  {
   "cell_type": "code",
   "execution_count": 43,
   "id": "2e366978-d084-4bae-857a-cd1186c0a1a8",
   "metadata": {},
   "outputs": [
    {
     "data": {
      "text/plain": [
       "2"
      ]
     },
     "execution_count": 43,
     "metadata": {},
     "output_type": "execute_result"
    }
   ],
   "source": [
    "myTuple.count(30) #retunr the number of given elements in the tuple"
   ]
  },
  {
   "cell_type": "code",
   "execution_count": 44,
   "id": "0657945e-f3c4-43d4-ad6f-eb4bfbcc6d0a",
   "metadata": {},
   "outputs": [
    {
     "data": {
      "text/plain": [
       "2"
      ]
     },
     "execution_count": 44,
     "metadata": {},
     "output_type": "execute_result"
    }
   ],
   "source": [
    "myTuple.index(30) #return the index of the given elements where it appear first"
   ]
  },
  {
   "cell_type": "markdown",
   "id": "2884b113-821f-4636-99bc-231084a51122",
   "metadata": {},
   "source": [
    "## Some funtion use in tuple"
   ]
  },
  {
   "cell_type": "code",
   "execution_count": 45,
   "id": "e2c09353-df04-437f-b960-fe68222e0b81",
   "metadata": {},
   "outputs": [
    {
     "data": {
      "text/plain": [
       "6"
      ]
     },
     "execution_count": 45,
     "metadata": {},
     "output_type": "execute_result"
    }
   ],
   "source": [
    "len(myTuple) #return the length of the tuple"
   ]
  },
  {
   "cell_type": "code",
   "execution_count": 46,
   "id": "8e4d4540-fc8a-487f-a71f-f476bcd110c6",
   "metadata": {},
   "outputs": [
    {
     "data": {
      "text/plain": [
       "10"
      ]
     },
     "execution_count": 46,
     "metadata": {},
     "output_type": "execute_result"
    }
   ],
   "source": [
    "min(myTuple) #return the minimun elements from the tuple"
   ]
  },
  {
   "cell_type": "code",
   "execution_count": 47,
   "id": "95f4ba46-4e5b-4022-a8e7-653816a31e27",
   "metadata": {},
   "outputs": [
    {
     "data": {
      "text/plain": [
       "50"
      ]
     },
     "execution_count": 47,
     "metadata": {},
     "output_type": "execute_result"
    }
   ],
   "source": [
    "max(myTuple) #return the maximum elemetns from the tuple"
   ]
  },
  {
   "cell_type": "code",
   "execution_count": 48,
   "id": "e1cb398a-d661-4239-be65-54f46676888f",
   "metadata": {},
   "outputs": [
    {
     "data": {
      "text/plain": [
       "180"
      ]
     },
     "execution_count": 48,
     "metadata": {},
     "output_type": "execute_result"
    }
   ],
   "source": [
    "sum(myTuple) #return the sum of all elements from the tuple"
   ]
  },
  {
   "cell_type": "markdown",
   "id": "37091e1e-647e-4489-af2c-6789b932d640",
   "metadata": {},
   "source": [
    "## Loop Tuple"
   ]
  },
  {
   "cell_type": "code",
   "execution_count": 49,
   "id": "06dc79ac-6f20-4a98-ad15-ce35fa6d26ec",
   "metadata": {},
   "outputs": [
    {
     "name": "stdout",
     "output_type": "stream",
     "text": [
      "10\n",
      "20\n",
      "30\n",
      "30\n",
      "40\n",
      "50\n"
     ]
    }
   ],
   "source": [
    "i = 0 #initialize loop count\n",
    "while i < len(myTuple): #if i is less than the length of the tuple then it will executed\n",
    "    print(myTuple[i]) #printing tuple elements by accessing thru index\n",
    "    i = i + 1 #increasing value of i so the loop is limited"
   ]
  },
  {
   "cell_type": "markdown",
   "id": "7836bec4-3221-455c-baa9-72794a19e76b",
   "metadata": {},
   "source": [
    "# Set\n",
    "use { }"
   ]
  },
  {
   "cell_type": "code",
   "execution_count": 50,
   "id": "5a888e78-a569-44c2-b85a-74151a623eb3",
   "metadata": {},
   "outputs": [
    {
     "data": {
      "text/plain": [
       "{2211424, 'joy'}"
      ]
     },
     "execution_count": 50,
     "metadata": {},
     "output_type": "execute_result"
    }
   ],
   "source": [
    "mySet = {\"joy\", 2211424} #contain a combination of all kind of data and cannot be duplicate\n",
    "mySet"
   ]
  },
  {
   "cell_type": "markdown",
   "id": "287f3454-a8dd-428d-bbc1-db0f45bbdb23",
   "metadata": {},
   "source": [
    "## Set Operation"
   ]
  },
  {
   "cell_type": "code",
   "execution_count": 51,
   "id": "d7aec63f-cb67-4f29-a9b0-9ad3e9b8f895",
   "metadata": {},
   "outputs": [
    {
     "name": "stdout",
     "output_type": "stream",
     "text": [
      "A =  {1, 2, 3, 4, 5}\n",
      "B =  {4, 5, 6, 7, 8}\n"
     ]
    }
   ],
   "source": [
    "A = {1, 2, 3, 4, 5}\n",
    "B = {4, 5, 6, 7, 8}\n",
    "\n",
    "print(\"A = \", A)\n",
    "print(\"B = \", B)"
   ]
  },
  {
   "cell_type": "code",
   "execution_count": 52,
   "id": "92e07f7d-158e-4772-8f0d-cf99ea2d433d",
   "metadata": {},
   "outputs": [
    {
     "name": "stdout",
     "output_type": "stream",
     "text": [
      "A =  {1, 2, 3, 4, 5}\n",
      "B =  {4, 5, 6, 7, 8}\n",
      "union =  {1, 2, 3, 4, 5, 6, 7, 8}\n"
     ]
    }
   ],
   "source": [
    "#Union operation\n",
    "union = A.union(B) #member of A or B or Both\n",
    "print(\"A = \", A)\n",
    "print(\"B = \", B)\n",
    "print(\"union = \", union)"
   ]
  },
  {
   "cell_type": "code",
   "execution_count": 53,
   "id": "657cad5c-fb18-43a8-bf97-e24cf9efa445",
   "metadata": {},
   "outputs": [
    {
     "name": "stdout",
     "output_type": "stream",
     "text": [
      "A =  {1, 2, 3, 4, 5}\n",
      "B =  {4, 5, 6, 7, 8}\n",
      "intersection =  {4, 5}\n"
     ]
    }
   ],
   "source": [
    "#Intersection Operation\n",
    "intersection = A.intersection(B) #member of both A and B\n",
    "print(\"A = \", A)\n",
    "print(\"B = \", B)\n",
    "print(\"intersection = \", intersection)"
   ]
  },
  {
   "cell_type": "code",
   "execution_count": 54,
   "id": "1acff9cf-5dc1-4aac-84ad-2bc77cf81db5",
   "metadata": {},
   "outputs": [
    {
     "name": "stdout",
     "output_type": "stream",
     "text": [
      "A =  {1, 2, 3, 4, 5}\n",
      "B =  {4, 5, 6, 7, 8}\n",
      "differences =  {1, 2, 3}\n"
     ]
    }
   ],
   "source": [
    "#Difference Operation\n",
    "differences = A.difference(B) #member of A but not a member of B\n",
    "print(\"A = \", A)\n",
    "print(\"B = \", B)\n",
    "print(\"differences = \", differences)"
   ]
  },
  {
   "cell_type": "code",
   "execution_count": 55,
   "id": "0776d75b-9874-4060-bfd3-bfed41215d57",
   "metadata": {},
   "outputs": [
    {
     "name": "stdout",
     "output_type": "stream",
     "text": [
      "A =  {1, 2, 3, 4, 5}\n",
      "B =  {4, 5, 6, 7, 8}\n",
      "symmetricDifferences =  {1, 2, 3, 6, 7, 8}\n"
     ]
    }
   ],
   "source": [
    "#Symmetric Difference Operation\n",
    "symmetricDifferences = A.symmetric_difference(B) #member of one of the sets but not both\n",
    "print(\"A = \", A)\n",
    "print(\"B = \", B)\n",
    "print(\"symmetricDifferences = \", symmetricDifferences)"
   ]
  },
  {
   "cell_type": "markdown",
   "id": "da8c9a68-5057-45cd-8aaf-24d9bdf9fe65",
   "metadata": {},
   "source": [
    "# Stack Strucrture"
   ]
  },
  {
   "cell_type": "markdown",
   "id": "f04cee1b-3743-4358-9d15-bb05376789ab",
   "metadata": {},
   "source": [
    "## Stack have two method, push and pop\n",
    "PUSH => add and item at top of the stack\\\n",
    "POP => return and remove an item from the top of the stack"
   ]
  },
  {
   "cell_type": "markdown",
   "id": "b5e28a29-d592-45e9-8b28-84d9f0b1f29b",
   "metadata": {},
   "source": [
    "## We can easily implent a stack using List and its method"
   ]
  },
  {
   "cell_type": "code",
   "execution_count": 56,
   "id": "e802bb9a-e891-423a-a57a-0e7296c604e7",
   "metadata": {},
   "outputs": [
    {
     "data": {
      "text/plain": [
       "[]"
      ]
     },
     "execution_count": 56,
     "metadata": {},
     "output_type": "execute_result"
    }
   ],
   "source": [
    "myStack = [] #defining a stack\n",
    "myStack"
   ]
  },
  {
   "cell_type": "code",
   "execution_count": 57,
   "id": "448851ee-be3c-4e9b-9215-c2dad7bb5a00",
   "metadata": {},
   "outputs": [
    {
     "data": {
      "text/plain": [
       "[20]"
      ]
     },
     "execution_count": 57,
     "metadata": {},
     "output_type": "execute_result"
    }
   ],
   "source": [
    "myStack.append(20) #for push an item we need to use the append method\n",
    "myStack"
   ]
  },
  {
   "cell_type": "code",
   "execution_count": 58,
   "id": "5e60a6a6-7af2-48a0-8799-9a273cda5344",
   "metadata": {},
   "outputs": [
    {
     "data": {
      "text/plain": [
       "[20, 50]"
      ]
     },
     "execution_count": 58,
     "metadata": {},
     "output_type": "execute_result"
    }
   ],
   "source": [
    "myStack.append(50)\n",
    "myStack"
   ]
  },
  {
   "cell_type": "code",
   "execution_count": 59,
   "id": "92803a90-3377-4cb2-a483-9e0f8432c9a4",
   "metadata": {},
   "outputs": [
    {
     "name": "stdout",
     "output_type": "stream",
     "text": [
      "50\n"
     ]
    },
    {
     "data": {
      "text/plain": [
       "[20]"
      ]
     },
     "execution_count": 59,
     "metadata": {},
     "output_type": "execute_result"
    }
   ],
   "source": [
    "print(myStack.pop()) #as pop method have no index defined then it will remove and return an item from the last index\n",
    "myStack"
   ]
  },
  {
   "cell_type": "markdown",
   "id": "170eb6cf-6a85-4343-980b-cc803f07a5d6",
   "metadata": {},
   "source": [
    "# Queue Structure"
   ]
  },
  {
   "cell_type": "markdown",
   "id": "343ce5b9-a341-414b-9eec-1f0b32838ee4",
   "metadata": {},
   "source": [
    "## We can also use a list to implement a Queue\n",
    "a queue has two method, Enqueue and Dequeue\\\n",
    "Enqueue => add and item at the end of the queue\\\n",
    "Dequeue => return and remove an item from the strat index of the queue"
   ]
  },
  {
   "cell_type": "code",
   "execution_count": 60,
   "id": "e9469110-0881-423d-9354-6acc1bdcd43d",
   "metadata": {},
   "outputs": [
    {
     "data": {
      "text/plain": [
       "[]"
      ]
     },
     "execution_count": 60,
     "metadata": {},
     "output_type": "execute_result"
    }
   ],
   "source": [
    "myQueue = [] #defining a queue\n",
    "myQueue"
   ]
  },
  {
   "cell_type": "code",
   "execution_count": 61,
   "id": "31b0e717-0650-49f8-a406-1d9b7c533a49",
   "metadata": {},
   "outputs": [
    {
     "data": {
      "text/plain": [
       "[20]"
      ]
     },
     "execution_count": 61,
     "metadata": {},
     "output_type": "execute_result"
    }
   ],
   "source": [
    "myQueue.append(20) #enque one element\n",
    "myQueue"
   ]
  },
  {
   "cell_type": "code",
   "execution_count": 62,
   "id": "404b749c-cade-413d-8b13-d7bf41b320a6",
   "metadata": {},
   "outputs": [
    {
     "data": {
      "text/plain": [
       "[20, 50]"
      ]
     },
     "execution_count": 62,
     "metadata": {},
     "output_type": "execute_result"
    }
   ],
   "source": [
    "myQueue.append(50)\n",
    "myQueue"
   ]
  },
  {
   "cell_type": "code",
   "execution_count": 63,
   "id": "c08543be-2faa-4aad-be5c-3483e66765ae",
   "metadata": {},
   "outputs": [
    {
     "name": "stdout",
     "output_type": "stream",
     "text": [
      "20\n"
     ]
    },
    {
     "data": {
      "text/plain": [
       "[50]"
      ]
     },
     "execution_count": 63,
     "metadata": {},
     "output_type": "execute_result"
    }
   ],
   "source": [
    "print(myQueue.pop(0)) #here we use 0 as index of pop, so now it will dequeue an element from the queue\n",
    "myQueue"
   ]
  },
  {
   "cell_type": "markdown",
   "id": "592806e8-3107-4a7e-b9a2-5d27369b6cb3",
   "metadata": {},
   "source": [
    "# Dictionary"
   ]
  },
  {
   "cell_type": "markdown",
   "id": "e51a33ee-3c80-4245-957a-d32c38b0f0b6",
   "metadata": {},
   "source": [
    "## its a pair of data\n",
    "key => value"
   ]
  },
  {
   "cell_type": "code",
   "execution_count": 64,
   "id": "8c54fad2-13ba-47f8-9987-c34401833c92",
   "metadata": {},
   "outputs": [
    {
     "data": {
      "text/plain": [
       "{'Name': 'Joy', 'ID': 2211424}"
      ]
     },
     "execution_count": 64,
     "metadata": {},
     "output_type": "execute_result"
    }
   ],
   "source": [
    "myDictionary = {\n",
    "    \"Name\" : \"Joy\",\n",
    "    \"ID\" : 2211424\n",
    "}\n",
    "\n",
    "myDictionary"
   ]
  },
  {
   "cell_type": "markdown",
   "id": "4d467bed-5fd6-4500-84f3-8f6e95001c8c",
   "metadata": {},
   "source": [
    "## Access of dictionary"
   ]
  },
  {
   "cell_type": "code",
   "execution_count": 65,
   "id": "721580a9-9c7d-41bb-b342-c06551715580",
   "metadata": {},
   "outputs": [
    {
     "data": {
      "text/plain": [
       "'Joy'"
      ]
     },
     "execution_count": 65,
     "metadata": {},
     "output_type": "execute_result"
    }
   ],
   "source": [
    "myDictionary[\"Name\"] #access by defining the key"
   ]
  },
  {
   "cell_type": "code",
   "execution_count": 66,
   "id": "3977ec5c-6435-4f50-a4a5-d209a9c5218e",
   "metadata": {},
   "outputs": [
    {
     "data": {
      "text/plain": [
       "2211424"
      ]
     },
     "execution_count": 66,
     "metadata": {},
     "output_type": "execute_result"
    }
   ],
   "source": [
    "myDictionary[\"ID\"] #access by key"
   ]
  },
  {
   "cell_type": "markdown",
   "id": "9eba6548-c96b-4980-b2fc-9f67563eeb01",
   "metadata": {},
   "source": [
    "## Nested Dictionary"
   ]
  },
  {
   "cell_type": "code",
   "execution_count": 67,
   "id": "9b935977-6bcb-4dfd-9b98-12cb90b24aa0",
   "metadata": {},
   "outputs": [
    {
     "name": "stdout",
     "output_type": "stream",
     "text": [
      "{'Address': 'Dhaka', 'Phone': '01700000000'}\n",
      "{'Name': 'Joy', 'ID': 2211424, 'Address': {'Address': 'Dhaka', 'Phone': '01700000000'}}\n"
     ]
    }
   ],
   "source": [
    "myAddress = {\n",
    "    \"Address\" : \"Dhaka\",\n",
    "    \"Phone\" : \"01700000000\"\n",
    "}\n",
    "\n",
    "myDictionary = {\n",
    "    \"Name\" : \"Joy\",\n",
    "    \"ID\" : 2211424,\n",
    "    \"Address\" : myAddress\n",
    "}\n",
    "\n",
    "\n",
    "print(myAddress)\n",
    "print(myDictionary)"
   ]
  },
  {
   "cell_type": "markdown",
   "id": "afeeece0-0179-442a-a91e-b1439955f159",
   "metadata": {},
   "source": [
    "## Access of nested dictionary"
   ]
  },
  {
   "cell_type": "code",
   "execution_count": 68,
   "id": "df4931e2-a126-4040-845e-1371789b1d09",
   "metadata": {},
   "outputs": [
    {
     "data": {
      "text/plain": [
       "'Joy'"
      ]
     },
     "execution_count": 68,
     "metadata": {},
     "output_type": "execute_result"
    }
   ],
   "source": [
    "myDictionary[\"Name\"] #access by key"
   ]
  },
  {
   "cell_type": "code",
   "execution_count": 69,
   "id": "6e90fd45-8200-4267-97af-69472784d655",
   "metadata": {},
   "outputs": [
    {
     "data": {
      "text/plain": [
       "{'Address': 'Dhaka', 'Phone': '01700000000'}"
      ]
     },
     "execution_count": 69,
     "metadata": {},
     "output_type": "execute_result"
    }
   ],
   "source": [
    "myDictionary[\"Address\"] #access by key as the value is a dictionary it print the whole dictionary"
   ]
  },
  {
   "cell_type": "code",
   "execution_count": 70,
   "id": "9ba6c40a-436f-412f-b13d-1e6a3e858a08",
   "metadata": {},
   "outputs": [
    {
     "data": {
      "text/plain": [
       "'01700000000'"
      ]
     },
     "execution_count": 70,
     "metadata": {},
     "output_type": "execute_result"
    }
   ],
   "source": [
    "myDictionary[\"Address\"][\"Phone\"] #access by key of nested dictionary"
   ]
  },
  {
   "cell_type": "markdown",
   "id": "ccf4bd7f-159c-4e27-b6f4-cc5dafc516ae",
   "metadata": {},
   "source": [
    "# Mathematical Operation"
   ]
  },
  {
   "cell_type": "code",
   "execution_count": 71,
   "id": "93445bfc-5aaf-4920-85a4-93c3372eb0d9",
   "metadata": {},
   "outputs": [
    {
     "name": "stdout",
     "output_type": "stream",
     "text": [
      "addition =  14\n",
      "subtraction =  6\n",
      "multiplication =  40\n",
      "divisionFloat =  2.5\n",
      "divisionFloor =  2\n",
      "modulas =  2\n",
      "power =  10000\n"
     ]
    }
   ],
   "source": [
    "X = 10\n",
    "Y = 4\n",
    "\n",
    "print(\"addition = \", X + Y)\n",
    "print(\"subtraction = \", X - Y)\n",
    "print(\"multiplication = \", X * Y)\n",
    "print(\"divisionFloat = \", X / Y)\n",
    "print(\"divisionFloor = \", X // Y)\n",
    "print(\"modulas = \", X % Y)\n",
    "print(\"power = \", X ** Y)"
   ]
  },
  {
   "cell_type": "markdown",
   "id": "231a54bf-6615-4802-9c59-edd6dd7aa013",
   "metadata": {},
   "source": [
    "# Logical Operator"
   ]
  },
  {
   "cell_type": "code",
   "execution_count": 72,
   "id": "c663cc06-bdbc-49ef-b0ed-5f2c91617f44",
   "metadata": {},
   "outputs": [
    {
     "name": "stdout",
     "output_type": "stream",
     "text": [
      "AND =  0\n",
      "OR =  1\n",
      "NOT X =  False\n"
     ]
    }
   ],
   "source": [
    "X = 1\n",
    "Y = 0\n",
    "\n",
    "print(\"AND = \", X and Y)\n",
    "print(\"OR = \", X or Y)\n",
    "print(\"NOT X = \", not X)"
   ]
  },
  {
   "cell_type": "markdown",
   "id": "1e8394a6-572b-4aff-b2f6-4f75deeb6e3d",
   "metadata": {},
   "source": [
    "# Comparison Operator"
   ]
  },
  {
   "cell_type": "code",
   "execution_count": 73,
   "id": "d20282fd-3ba4-492d-b321-c3895283406a",
   "metadata": {},
   "outputs": [
    {
     "name": "stdout",
     "output_type": "stream",
     "text": [
      "X greater than Y =  True\n",
      "X less than Y =  False\n",
      "X greater than or equal Y =  True\n",
      "X less than or equal Y =  False\n",
      "X is equal Y =  False\n",
      "X is not equal to Y = True\n"
     ]
    }
   ],
   "source": [
    "X = 5\n",
    "Y = 4\n",
    "\n",
    "print(\"X greater than Y = \", X > Y)\n",
    "print(\"X less than Y = \", X < Y)\n",
    "print(\"X greater than or equal Y = \", X >= Y)\n",
    "print(\"X less than or equal Y = \", X <= Y)\n",
    "print(\"X is equal Y = \", X == Y)\n",
    "print(\"X is not equal to Y =\", X != Y)"
   ]
  },
  {
   "cell_type": "markdown",
   "id": "773d4abc-36f6-4417-bfd3-254a303440f9",
   "metadata": {},
   "source": [
    "# Control Flow"
   ]
  },
  {
   "cell_type": "markdown",
   "id": "de59672b-d544-49d4-8e58-af297e58ef32",
   "metadata": {},
   "source": [
    "## IF-ELSE"
   ]
  },
  {
   "cell_type": "code",
   "execution_count": 74,
   "id": "bd693196-c8ec-4154-9b5d-985d23cfd19b",
   "metadata": {},
   "outputs": [
    {
     "name": "stdout",
     "output_type": "stream",
     "text": [
      "Successful - True\n"
     ]
    }
   ],
   "source": [
    "condition =  True #condition can be any kind of expression, can be a combination of AND OR etc.\n",
    "\n",
    "if condition:\n",
    "    print(\"Successful - True\") #indentation must\n",
    "else:\n",
    "    print(\"Unsuccessful - False\")"
   ]
  },
  {
   "cell_type": "code",
   "execution_count": 75,
   "id": "11f5d2e4-3107-4452-b30a-8a1cff1f01c6",
   "metadata": {},
   "outputs": [
    {
     "name": "stdout",
     "output_type": "stream",
     "text": [
      "Unsuccessful - False\n"
     ]
    }
   ],
   "source": [
    "condition =  False\n",
    "\n",
    "if condition:\n",
    "    print(\"Successful - True\")\n",
    "else: #if condition is false then this part will executed\n",
    "    print(\"Unsuccessful - False\")"
   ]
  },
  {
   "cell_type": "markdown",
   "id": "14acb48c-2f59-4fb7-b9f7-15550a784c6c",
   "metadata": {},
   "source": [
    "## Single Line IF-ELSE"
   ]
  },
  {
   "cell_type": "code",
   "execution_count": 76,
   "id": "8a6872d6-6357-478c-aa9f-9ce87b97778f",
   "metadata": {},
   "outputs": [
    {
     "name": "stdout",
     "output_type": "stream",
     "text": [
      "Successful - True\n"
     ]
    }
   ],
   "source": [
    "condition = True\n",
    "print(\"Successful - True\") if condition else print(\"Unsuccessful - False\")"
   ]
  },
  {
   "cell_type": "code",
   "execution_count": 77,
   "id": "b7041fab-7b5e-491b-95b9-7d687d09255d",
   "metadata": {},
   "outputs": [
    {
     "name": "stdout",
     "output_type": "stream",
     "text": [
      "Unsuccessful - False\n"
     ]
    }
   ],
   "source": [
    "condition = False\n",
    "print(\"Successful - True\") if condition else print(\"Unsuccessful - False\")"
   ]
  },
  {
   "cell_type": "markdown",
   "id": "b555d325-237c-4907-86bc-83e51ba4e711",
   "metadata": {},
   "source": [
    "# LOOPS"
   ]
  },
  {
   "cell_type": "markdown",
   "id": "ff5a1fd7-d735-493e-aba5-ee3e0b831d65",
   "metadata": {},
   "source": [
    "## FOR LOOP\n",
    "if we know the iterable count"
   ]
  },
  {
   "cell_type": "code",
   "execution_count": 78,
   "id": "d3fce783-277b-43cb-aaa1-b915dbb578eb",
   "metadata": {},
   "outputs": [
    {
     "name": "stdout",
     "output_type": "stream",
     "text": [
      "0\n",
      "1\n",
      "2\n",
      "3\n",
      "4\n"
     ]
    }
   ],
   "source": [
    "for i in range(5): #range is a function reeturn a list, in this case 0-5\n",
    "    print(i)"
   ]
  },
  {
   "cell_type": "code",
   "execution_count": 79,
   "id": "122d951c-125d-4976-9235-fb43d3eb6915",
   "metadata": {},
   "outputs": [
    {
     "name": "stdout",
     "output_type": "stream",
     "text": [
      "2\n",
      "3\n",
      "4\n",
      "5\n"
     ]
    }
   ],
   "source": [
    "for i in range(2, 6): #range is a function reeturn a list, in this case it will start from 2 end in 5\n",
    "    print(i)"
   ]
  },
  {
   "cell_type": "code",
   "execution_count": 80,
   "id": "6e907bb6-2c12-445f-9129-ffccbc3f8b88",
   "metadata": {},
   "outputs": [
    {
     "name": "stdout",
     "output_type": "stream",
     "text": [
      "2\n",
      "4\n"
     ]
    }
   ],
   "source": [
    "for i in range(2, 6, 2): #range is a function reeturn a list, in this case it will start from 2 end in 5, now interval added\n",
    "    print(i)"
   ]
  },
  {
   "cell_type": "markdown",
   "id": "fd787545-a13b-442a-9a65-e2f1a438b7d5",
   "metadata": {},
   "source": [
    "## FOR-ELSE\n",
    "if the statement in the for loop executed and terminated normally without any break then else block will executed"
   ]
  },
  {
   "cell_type": "code",
   "execution_count": 81,
   "id": "d74a0b13-b021-4148-96a0-abd033d0d7a3",
   "metadata": {},
   "outputs": [
    {
     "name": "stdout",
     "output_type": "stream",
     "text": [
      "0\n",
      "1\n",
      "2\n",
      "3\n",
      "4\n",
      "Terminated Successfully\n"
     ]
    }
   ],
   "source": [
    "for i in range(5):\n",
    "    print(i)\n",
    "else:\n",
    "    print(\"Terminated Successfully\")"
   ]
  },
  {
   "cell_type": "code",
   "execution_count": 82,
   "id": "a3f2311b-15d8-4893-937b-4c2a9f45f859",
   "metadata": {},
   "outputs": [
    {
     "name": "stdout",
     "output_type": "stream",
     "text": [
      "0\n",
      "1\n",
      "2\n",
      "3\n"
     ]
    }
   ],
   "source": [
    "for i in range(5):\n",
    "    print(i)\n",
    "    if i > 2:\n",
    "        break #use to break the loop in the middle of the runtime\n",
    "else:\n",
    "    print(\"Terminated Successfully\")"
   ]
  },
  {
   "cell_type": "markdown",
   "id": "24590c93-9910-469b-a429-8466eb98546b",
   "metadata": {},
   "source": [
    "## Use of iterable list"
   ]
  },
  {
   "cell_type": "code",
   "execution_count": 83,
   "id": "c2417f89-1e42-4bbe-a0d8-17e31d8fe6ef",
   "metadata": {},
   "outputs": [
    {
     "name": "stdout",
     "output_type": "stream",
     "text": [
      "10\n",
      "20\n",
      "30\n",
      "40\n",
      "50\n"
     ]
    }
   ],
   "source": [
    "myList = [10, 20, 30, 40, 50]\n",
    "\n",
    "for i in myList: #everytime for loop will take one element from the list and assign it in i\n",
    "    print(i)"
   ]
  },
  {
   "cell_type": "markdown",
   "id": "a01544cf-0fd8-477d-b783-a8d133d5624b",
   "metadata": {},
   "source": [
    "## WHILE-LOOP\n",
    "when we know the condition only"
   ]
  },
  {
   "cell_type": "code",
   "execution_count": 84,
   "id": "4b5b2078-820d-4b43-a38c-6c42bf6c0315",
   "metadata": {},
   "outputs": [
    {
     "name": "stdout",
     "output_type": "stream",
     "text": [
      "Successfull -  0\n",
      "Successfull -  1\n",
      "Successfull -  2\n",
      "Successfull -  3\n",
      "Successfull -  4\n"
     ]
    }
   ],
   "source": [
    "count = 0\n",
    "\n",
    "while count < 5: #as long as this condition is true, while loop statement will executed\n",
    "    print(\"Successfull - \", count)\n",
    "    count = count + 1"
   ]
  },
  {
   "cell_type": "markdown",
   "id": "3c8a16f9-3d42-4fbc-bac7-86a0446fbb39",
   "metadata": {},
   "source": [
    "# Function\n",
    "whith parameter or without parameter\\\n",
    "with return or without return"
   ]
  },
  {
   "cell_type": "code",
   "execution_count": 85,
   "id": "be7c7d1e-8b48-4868-b6ba-c9d1808f2920",
   "metadata": {},
   "outputs": [],
   "source": [
    "def myFunction(): #here def is a resever word means define, then function name, then parameter if needed in the ()\n",
    "    print(\"I am a funtion without parameter and withour any return value\")\n",
    "\n",
    "#function define done but it will not give any output"
   ]
  },
  {
   "cell_type": "code",
   "execution_count": 86,
   "id": "a33c62e0-9a11-4c6d-928e-76eaf4d687f0",
   "metadata": {},
   "outputs": [
    {
     "name": "stdout",
     "output_type": "stream",
     "text": [
      "I am a funtion without parameter and withour any return value\n"
     ]
    }
   ],
   "source": [
    "# now calling the function, just type the funtion name\n",
    "myFunction()"
   ]
  },
  {
   "cell_type": "code",
   "execution_count": 87,
   "id": "404358b2-411f-4369-a9cb-be2c92ded02b",
   "metadata": {},
   "outputs": [],
   "source": [
    "def myFunction(x, y): #now with paramater\n",
    "    sum = x + y\n",
    "    print(\"I am a function with parameter but without return\")\n",
    "    print(\"I have these parameter - \", x, \" - \", y)"
   ]
  },
  {
   "cell_type": "code",
   "execution_count": 88,
   "id": "7c500942-a267-43e2-a98d-492d00b8f2f0",
   "metadata": {},
   "outputs": [
    {
     "name": "stdout",
     "output_type": "stream",
     "text": [
      "I am a function with parameter but without return\n",
      "I have these parameter -  5  -  4\n"
     ]
    }
   ],
   "source": [
    "myFunction(5, 4) #now calling the funtion with parameter"
   ]
  },
  {
   "cell_type": "code",
   "execution_count": 89,
   "id": "5c8d93cc-fe61-4dba-b63e-b8cc5f690e8f",
   "metadata": {},
   "outputs": [],
   "source": [
    "def myFunction(x, y): #now with paramater\n",
    "    sum = x + y\n",
    "    print(\"I am a function with parameter and return\")\n",
    "    print(\"I have these parameter - \", x, \" - \", y)\n",
    "    print(\"For catch my return value, you need to assign me on a variable or use direct print\")\n",
    "    return sum"
   ]
  },
  {
   "cell_type": "code",
   "execution_count": 90,
   "id": "7d2c2d1e-8a31-4dd0-be87-2823e28bb740",
   "metadata": {},
   "outputs": [
    {
     "name": "stdout",
     "output_type": "stream",
     "text": [
      "I am a function with parameter and return\n",
      "I have these parameter -  5  -  4\n",
      "For catch my return value, you need to assign me on a variable or use direct print\n"
     ]
    },
    {
     "data": {
      "text/plain": [
       "9"
      ]
     },
     "execution_count": 90,
     "metadata": {},
     "output_type": "execute_result"
    }
   ],
   "source": [
    "value = myFunction(5, 4) #passing paramter and using a variable for storint return value\n",
    "value"
   ]
  },
  {
   "cell_type": "markdown",
   "id": "a32c38ff-f2a3-4d90-8f72-21307dfb5126",
   "metadata": {},
   "source": [
    "## Lamda Function - Single expression funtion"
   ]
  },
  {
   "cell_type": "code",
   "execution_count": 91,
   "id": "faa25a1f-c220-46ac-913d-87181c36c219",
   "metadata": {},
   "outputs": [
    {
     "data": {
      "text/plain": [
       "9"
      ]
     },
     "execution_count": 91,
     "metadata": {},
     "output_type": "execute_result"
    }
   ],
   "source": [
    "myFunction = lambda x, y : x+y\n",
    "myFunction(4, 5)"
   ]
  },
  {
   "cell_type": "markdown",
   "id": "e0834c81-3237-4875-bb40-bd7082eab55a",
   "metadata": {},
   "source": [
    "# Object Oriented Programming - OOP"
   ]
  },
  {
   "cell_type": "markdown",
   "id": "c76a5ca4-243e-4c83-a594-84acec5d216c",
   "metadata": {},
   "source": [
    "## Class define\n",
    "class is a blueprint of object\\\n",
    "two part of a class, properties and method"
   ]
  },
  {
   "cell_type": "code",
   "execution_count": 92,
   "id": "69316967-e443-4ac1-9d92-1a03f5f0af8d",
   "metadata": {},
   "outputs": [],
   "source": [
    "class myClass:\n",
    "    #properties\n",
    "    def __init__ (self, name, university): #this function is called automatically every time the class is being used to create a new object\n",
    "        self.name = name #initiate properties\n",
    "        self.university = university\n",
    "\n",
    "    #function\n",
    "    def getName(self): #self keyword need to give always to mention the self class\n",
    "        return self.name"
   ]
  },
  {
   "cell_type": "code",
   "execution_count": 93,
   "id": "65d23fe8-af6d-4c52-bd96-d72684130832",
   "metadata": {},
   "outputs": [],
   "source": [
    "joy = myClass(\"Joy\", \"NSU\") #object create"
   ]
  },
  {
   "cell_type": "code",
   "execution_count": 94,
   "id": "bcee3925-3475-448d-96db-c7030623fd8f",
   "metadata": {},
   "outputs": [
    {
     "data": {
      "text/plain": [
       "'Joy'"
      ]
     },
     "execution_count": 94,
     "metadata": {},
     "output_type": "execute_result"
    }
   ],
   "source": [
    "joy.name #access the properties"
   ]
  },
  {
   "cell_type": "code",
   "execution_count": 95,
   "id": "b8e37896-2bb4-4459-9105-d5d08447e056",
   "metadata": {},
   "outputs": [
    {
     "data": {
      "text/plain": [
       "'Joy'"
      ]
     },
     "execution_count": 95,
     "metadata": {},
     "output_type": "execute_result"
    }
   ],
   "source": [
    "joy.getName() #access the funtion"
   ]
  },
  {
   "cell_type": "code",
   "execution_count": null,
   "id": "26abd2e9-55a2-48a2-940b-82a1bf790207",
   "metadata": {},
   "outputs": [],
   "source": []
  }
 ],
 "metadata": {
  "kernelspec": {
   "display_name": "Python 3 (ipykernel)",
   "language": "python",
   "name": "python3"
  },
  "language_info": {
   "codemirror_mode": {
    "name": "ipython",
    "version": 3
   },
   "file_extension": ".py",
   "mimetype": "text/x-python",
   "name": "python",
   "nbconvert_exporter": "python",
   "pygments_lexer": "ipython3",
   "version": "3.12.1"
  }
 },
 "nbformat": 4,
 "nbformat_minor": 5
}
