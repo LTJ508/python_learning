{
 "cells": [
  {
   "cell_type": "markdown",
   "id": "db053b8f-81d1-456c-87c7-7deecb83a55d",
   "metadata": {},
   "source": [
    "# Crash Course on Python by DR. MAHDY RAHMAN CHOWDHURY"
   ]
  },
  {
   "cell_type": "markdown",
   "id": "d5698cd1-e565-4244-a6aa-847644a690f3",
   "metadata": {},
   "source": [
    "# Variable and DataType"
   ]
  },
  {
   "cell_type": "code",
   "execution_count": 1,
   "id": "d3ea494a-8845-489c-89e3-3159c28f422b",
   "metadata": {},
   "outputs": [
    {
     "name": "stdout",
     "output_type": "stream",
     "text": [
      "5\n",
      "<class 'int'>\n",
      "4.5\n",
      "<class 'float'>\n",
      "My Name is Joy\n",
      "<class 'str'>\n",
      "True\n",
      "<class 'bool'>\n"
     ]
    }
   ],
   "source": [
    "# Variable assignment\n",
    "var = 5 #now its integer\n",
    "print(var)\n",
    "print(type(var))\n",
    "\n",
    "var = 4.5 #now its float\n",
    "print(var)\n",
    "print(type(var))\n",
    "\n",
    "var = \"My Name is Joy\" #now its string\n",
    "print(var)\n",
    "print(type(var))\n",
    "\n",
    "var = True #now it will working as a boolean value\n",
    "print(var)\n",
    "print(type(var))\n",
    "\n",
    "\n",
    "# in python, when we use a variable, last defined data will be used"
   ]
  },
  {
   "cell_type": "markdown",
   "id": "362aed27-7f33-4cbf-aefb-8cae7dc5c112",
   "metadata": {},
   "source": [
    "## In python, we don't need to define the datatype, Python karnel automatically detect the datatype"
   ]
  },
  {
   "cell_type": "markdown",
   "id": "4488a9fd-5995-4716-87ca-75f3aaf6a4f6",
   "metadata": {},
   "source": [
    "## there are two kinds of variable\n",
    "1. Local Variable => variable defined in a function, and access limited to the defined function only\n",
    "2. Global Variable => varaible defined in out of all function, can be access from any function"
   ]
  },
  {
   "cell_type": "code",
   "execution_count": 2,
   "id": "5a333c6c-a826-4466-b30e-29eefea804f1",
   "metadata": {},
   "outputs": [
    {
     "name": "stdout",
     "output_type": "stream",
     "text": [
      "Sum from Function1:  15\n",
      "Sum from Function2:  20\n"
     ]
    }
   ],
   "source": [
    "a = 10 #global variable, it can be access from any function\n",
    "\n",
    "def function1():\n",
    "    b = 5 #local variable for function 1, outside of this function no one can access b\n",
    "    sum = a + b #this sum is local variable for this function, here a is global variable, thats why we can get access to it\n",
    "    print(\"Sum from Function1: \", sum) #printing the local variable sum\n",
    "\n",
    "def function2(): #defining another function\n",
    "    c = 10 #local variable for this function\n",
    "    sum = a + c #a is global and c is local, we can't access b from this function, because b is local variable of function1\n",
    "    print(\"Sum from Function2: \", sum) #printing local variable sum of this function\n",
    "\n",
    "\n",
    "function1() #calling the function\n",
    "function2() #calling the function"
   ]
  },
  {
   "cell_type": "markdown",
   "id": "62930f66-2609-4777-9e49-f5837d128f4e",
   "metadata": {},
   "source": [
    "# Data Structure"
   ]
  },
  {
   "cell_type": "markdown",
   "id": "c10880b5-d55a-4d2a-91f6-1b1f4c8e05bb",
   "metadata": {},
   "source": [
    "## List"
   ]
  },
  {
   "cell_type": "code",
   "execution_count": 3,
   "id": "bc186064-366a-4469-b3ec-204bbbeb1d29",
   "metadata": {},
   "outputs": [
    {
     "name": "stdout",
     "output_type": "stream",
     "text": [
      "4\n",
      "0\n"
     ]
    },
    {
     "data": {
      "text/plain": [
       "[0, 1, 2, 3, 4, 5]"
      ]
     },
     "execution_count": 3,
     "metadata": {},
     "output_type": "execute_result"
    }
   ],
   "source": [
    "myList = [0, 1, 2, 3, 4, 5] #defining list\n",
    "print(myList[4]) #List acces by index number\n",
    "print(myList[0]) #acess by index\n",
    "myList #print entire list"
   ]
  },
  {
   "cell_type": "markdown",
   "id": "f7825fd2-6b69-48b7-8038-91db70129242",
   "metadata": {},
   "source": [
    "## List Slicing operation\n",
    "myList[ starting index included : Ending index excluded ]"
   ]
  },
  {
   "cell_type": "code",
   "execution_count": 4,
   "id": "352a6257-5151-4c3f-b71e-7ce0dd0e6d6b",
   "metadata": {},
   "outputs": [
    {
     "data": {
      "text/plain": [
       "[0, 1, 2, 3, 4, 5]"
      ]
     },
     "execution_count": 4,
     "metadata": {},
     "output_type": "execute_result"
    }
   ],
   "source": [
    "myList[:] #printing entire list"
   ]
  },
  {
   "cell_type": "code",
   "execution_count": 5,
   "id": "2c6680d3-5398-489e-b75a-f3dabf105ffe",
   "metadata": {},
   "outputs": [
    {
     "data": {
      "text/plain": [
       "[0, 1, 2, 3]"
      ]
     },
     "execution_count": 5,
     "metadata": {},
     "output_type": "execute_result"
    }
   ],
   "source": [
    "myList[0:4] #printing frim index 0 to 3"
   ]
  },
  {
   "cell_type": "code",
   "execution_count": 6,
   "id": "4491d500-ee1f-4a2c-96c1-61d7ea9fd5fb",
   "metadata": {},
   "outputs": [
    {
     "data": {
      "text/plain": [
       "[0, 1, 2]"
      ]
     },
     "execution_count": 6,
     "metadata": {},
     "output_type": "execute_result"
    }
   ],
   "source": [
    "myList[:3] #printing from starting index(as not defined start with 0) to 2"
   ]
  },
  {
   "cell_type": "code",
   "execution_count": 7,
   "id": "577e3851-22b7-4c7f-9309-db2eee2a86dd",
   "metadata": {},
   "outputs": [
    {
     "data": {
      "text/plain": [
       "[4, 5]"
      ]
     },
     "execution_count": 7,
     "metadata": {},
     "output_type": "execute_result"
    }
   ],
   "source": [
    "myList[4:] #Start with 4 but end with the last index as it is defined"
   ]
  },
  {
   "cell_type": "code",
   "execution_count": 8,
   "id": "0cc1239d-31c4-4890-918e-fde5f62218d7",
   "metadata": {},
   "outputs": [
    {
     "data": {
      "text/plain": [
       "[]"
      ]
     },
     "execution_count": 8,
     "metadata": {},
     "output_type": "execute_result"
    }
   ],
   "source": [
    "myList[2:2] #as ending index is exclueded, it will print empty list"
   ]
  },
  {
   "cell_type": "code",
   "execution_count": 9,
   "id": "9d64309b-43af-419d-835f-12c8375b13d4",
   "metadata": {},
   "outputs": [
    {
     "data": {
      "text/plain": [
       "[4, 5]"
      ]
     },
     "execution_count": 9,
     "metadata": {},
     "output_type": "execute_result"
    }
   ],
   "source": [
    "myList[4:10] #you can see, as there is no index after 6, it just omited the iteration and print up to 6"
   ]
  },
  {
   "cell_type": "markdown",
   "id": "f5c59c80-2d6f-4804-b42a-02698f855690",
   "metadata": {},
   "source": [
    "## slicing with negative index\n",
    "myList [ - index] = length of list - given index"
   ]
  },
  {
   "cell_type": "code",
   "execution_count": 10,
   "id": "909112c9-cd48-45b9-83bc-b58debc2ce62",
   "metadata": {},
   "outputs": [
    {
     "data": {
      "text/plain": [
       "2"
      ]
     },
     "execution_count": 10,
     "metadata": {},
     "output_type": "execute_result"
    }
   ],
   "source": [
    "myList[-4] #as our list have a length of 6, it will print 6-4=2"
   ]
  },
  {
   "cell_type": "code",
   "execution_count": 11,
   "id": "657f6a44-b946-446a-a58c-0ad312736033",
   "metadata": {},
   "outputs": [
    {
     "data": {
      "text/plain": [
       "3"
      ]
     },
     "execution_count": 11,
     "metadata": {},
     "output_type": "execute_result"
    }
   ],
   "source": [
    "myList[-3]"
   ]
  },
  {
   "cell_type": "code",
   "execution_count": 12,
   "id": "d23023c4-193f-4fd6-a60f-a6b42650a963",
   "metadata": {},
   "outputs": [
    {
     "data": {
      "text/plain": [
       "0"
      ]
     },
     "execution_count": 12,
     "metadata": {},
     "output_type": "execute_result"
    }
   ],
   "source": [
    "myList[-0] #as 0 is not negative number, it will print the index 0 instead"
   ]
  },
  {
   "cell_type": "code",
   "execution_count": 13,
   "id": "a8944947-ac06-4c8c-9284-9b7025c4ad81",
   "metadata": {},
   "outputs": [],
   "source": [
    "#myList[-7] #6-7=-1 out of index, this will not run, commenting the entire code"
   ]
  },
  {
   "cell_type": "markdown",
   "id": "f6117711-66ab-4d98-86f1-30f9e739c60d",
   "metadata": {},
   "source": [
    "## combining positive and negative slicing"
   ]
  },
  {
   "cell_type": "code",
   "execution_count": 14,
   "id": "46fa278a-b6f8-4d60-8f53-12fbb8963c32",
   "metadata": {},
   "outputs": [
    {
     "data": {
      "text/plain": [
       "[]"
      ]
     },
     "execution_count": 14,
     "metadata": {},
     "output_type": "execute_result"
    }
   ],
   "source": [
    "myList[1:-5] #start with 1 end with 6-5=1(exclueded), so it will print empty list"
   ]
  },
  {
   "cell_type": "code",
   "execution_count": 15,
   "id": "49f3b15d-3caf-449c-b547-b1a40c1688a3",
   "metadata": {},
   "outputs": [
    {
     "data": {
      "text/plain": [
       "[1]"
      ]
     },
     "execution_count": 15,
     "metadata": {},
     "output_type": "execute_result"
    }
   ],
   "source": [
    "myList[1:-4] #start with 1 and end with 6-4=2(excluded)"
   ]
  },
  {
   "cell_type": "markdown",
   "id": "9d33acbe-8cb4-40b8-a75b-d689de5a1297",
   "metadata": {},
   "source": [
    "## slicing with interval\n",
    "myList [ **start index : end index excluded : interval or difference**]"
   ]
  },
  {
   "cell_type": "code",
   "execution_count": 16,
   "id": "b3a79c19-c94d-4187-96ce-7bc5a0df7199",
   "metadata": {},
   "outputs": [
    {
     "data": {
      "text/plain": [
       "[0, 2, 4]"
      ]
     },
     "execution_count": 16,
     "metadata": {},
     "output_type": "execute_result"
    }
   ],
   "source": [
    "myList[0:6:2] # start with 0 end with 6 but exluded and every time it will ise the interval 2"
   ]
  },
  {
   "cell_type": "code",
   "execution_count": 17,
   "id": "5087b5f8-099b-487a-bb9c-5721bd4b7dfb",
   "metadata": {},
   "outputs": [
    {
     "data": {
      "text/plain": [
       "[5, 4, 3, 2, 1]"
      ]
     },
     "execution_count": 17,
     "metadata": {},
     "output_type": "execute_result"
    }
   ],
   "source": [
    "myList[6:0:-1] #it will reverse the list as it start eith the last index and end with the first index and the interval is -1"
   ]
  },
  {
   "cell_type": "markdown",
   "id": "7c1ae204-ec04-4074-9c95-a9677f23a743",
   "metadata": {},
   "source": [
    "## Extend a list and modification of list"
   ]
  },
  {
   "cell_type": "code",
   "execution_count": 18,
   "id": "c042daf2-ebe2-430c-90ae-62d81901e7df",
   "metadata": {},
   "outputs": [
    {
     "data": {
      "text/plain": [
       "[0, 1, 2, 3, 4, 5]"
      ]
     },
     "execution_count": 18,
     "metadata": {},
     "output_type": "execute_result"
    }
   ],
   "source": [
    "newList = myList.copy() #copy the list to newList\n",
    "newList"
   ]
  },
  {
   "cell_type": "code",
   "execution_count": 19,
   "id": "09060d5a-a86e-4e0a-9be6-9ec22bdd9e9a",
   "metadata": {},
   "outputs": [
    {
     "data": {
      "text/plain": [
       "[0, 1, 2, 3, 4, 5, 10]"
      ]
     },
     "execution_count": 19,
     "metadata": {},
     "output_type": "execute_result"
    }
   ],
   "source": [
    "newList.append(10) #adding 10 at the end index\n",
    "newList"
   ]
  },
  {
   "cell_type": "code",
   "execution_count": 20,
   "id": "e51972cb-117b-48d3-809e-2cf7cd063de6",
   "metadata": {},
   "outputs": [
    {
     "data": {
      "text/plain": [
       "[0, 1, 2, 3, 4, 5, 10, 20]"
      ]
     },
     "execution_count": 20,
     "metadata": {},
     "output_type": "execute_result"
    }
   ],
   "source": [
    "newList = newList + [20] #adding 20 at the end index\n",
    "newList"
   ]
  },
  {
   "cell_type": "code",
   "execution_count": 21,
   "id": "9b9b93d0-329e-48a6-bdb1-2b89fc502c1e",
   "metadata": {},
   "outputs": [
    {
     "data": {
      "text/plain": [
       "[0, 1, 2, 3, 4, 5, 10, 20, 0, 1, 2, 3, 4, 5]"
      ]
     },
     "execution_count": 21,
     "metadata": {},
     "output_type": "execute_result"
    }
   ],
   "source": [
    "newList = newList + myList #adding two list\n",
    "newList"
   ]
  },
  {
   "cell_type": "markdown",
   "id": "465f88b7-9664-4803-995e-df5597e81e9b",
   "metadata": {},
   "source": [
    "## adding new item in a specific index"
   ]
  },
  {
   "cell_type": "code",
   "execution_count": 22,
   "id": "4e393f62-27ce-492e-839b-2a86396b2608",
   "metadata": {},
   "outputs": [
    {
     "data": {
      "text/plain": [
       "[0, 1, 2, 3, 4, 5]"
      ]
     },
     "execution_count": 22,
     "metadata": {},
     "output_type": "execute_result"
    }
   ],
   "source": [
    "newList = myList.copy() #copy the list to newList\n",
    "newList"
   ]
  },
  {
   "cell_type": "code",
   "execution_count": 23,
   "id": "b59e852a-c61c-402a-9ff9-07d6a9acdf5b",
   "metadata": {},
   "outputs": [
    {
     "data": {
      "text/plain": [
       "[0, 1, 2, 3, 10, 4, 5]"
      ]
     },
     "execution_count": 23,
     "metadata": {},
     "output_type": "execute_result"
    }
   ],
   "source": [
    "newList[4:4] = [10] #as we know normally this range will give empty list, but the pointer exist in the index 4\n",
    "                    #new item will place there and the other item will shift to the right\n",
    "newList"
   ]
  },
  {
   "cell_type": "code",
   "execution_count": 24,
   "id": "ea6aa113-a470-404d-901f-d1f55a81778f",
   "metadata": {},
   "outputs": [
    {
     "data": {
      "text/plain": [
       "[0, 1, 10, 10, 4, 5]"
      ]
     },
     "execution_count": 24,
     "metadata": {},
     "output_type": "execute_result"
    }
   ],
   "source": [
    "newList[2:4] = [10] #as this return the index 2 and 3, so this assignment operator will remove thes index and place 10\n",
    "newList"
   ]
  },
  {
   "cell_type": "markdown",
   "id": "b4a44198-605c-4900-85a0-606089cd5d65",
   "metadata": {},
   "source": [
    "## some method use in list"
   ]
  },
  {
   "cell_type": "code",
   "execution_count": 25,
   "id": "8a5fed21-b955-42fe-aa4f-79aeb4b91d10",
   "metadata": {},
   "outputs": [
    {
     "data": {
      "text/plain": [
       "[10, 20, 30, 30, 40, 50, 80]"
      ]
     },
     "execution_count": 25,
     "metadata": {},
     "output_type": "execute_result"
    }
   ],
   "source": [
    "newList = [10, 20, 30, 30, 40, 50, 80] #total 7 item, containing a duplicate item\n",
    "newList"
   ]
  },
  {
   "cell_type": "code",
   "execution_count": 26,
   "id": "169d3138-9332-44e2-82e2-dfd3f8b1ac82",
   "metadata": {},
   "outputs": [
    {
     "data": {
      "text/plain": [
       "[10, 20, 30, 30, 40, 50, 80, 90]"
      ]
     },
     "execution_count": 26,
     "metadata": {},
     "output_type": "execute_result"
    }
   ],
   "source": [
    "newList.append(90) #adding new item at the last index\n",
    "newList"
   ]
  },
  {
   "cell_type": "code",
   "execution_count": 27,
   "id": "cd3f6a60-af96-43c6-8f5a-c20ebb3d9eaf",
   "metadata": {},
   "outputs": [
    {
     "data": {
      "text/plain": [
       "[10, 20, 30, 30, 40, 50, 80]"
      ]
     },
     "execution_count": 27,
     "metadata": {},
     "output_type": "execute_result"
    }
   ],
   "source": [
    "newList.remove(90) #remove the given content where it first appear\n",
    "newList"
   ]
  },
  {
   "cell_type": "code",
   "execution_count": 28,
   "id": "7f07bff1-e88b-4549-8cf1-5dfa20ce7787",
   "metadata": {},
   "outputs": [
    {
     "data": {
      "text/plain": [
       "2"
      ]
     },
     "execution_count": 28,
     "metadata": {},
     "output_type": "execute_result"
    }
   ],
   "source": [
    "newList.count(30) #count the number of given elements in a list"
   ]
  },
  {
   "cell_type": "code",
   "execution_count": 29,
   "id": "61203fda-5d80-4147-acf5-04a6d3322d25",
   "metadata": {},
   "outputs": [
    {
     "data": {
      "text/plain": [
       "2"
      ]
     },
     "execution_count": 29,
     "metadata": {},
     "output_type": "execute_result"
    }
   ],
   "source": [
    "newList.index(30) #return the index number where the given content first appear"
   ]
  },
  {
   "cell_type": "code",
   "execution_count": 30,
   "id": "73314e1a-90ed-45d3-9523-a35f196de218",
   "metadata": {},
   "outputs": [
    {
     "data": {
      "text/plain": [
       "30"
      ]
     },
     "execution_count": 30,
     "metadata": {},
     "output_type": "execute_result"
    }
   ],
   "source": [
    "newList.pop(2) #returnt the content and remove as the given index"
   ]
  },
  {
   "cell_type": "code",
   "execution_count": 31,
   "id": "63fce510-bb3f-4d0f-ba7d-20bdf3ffd940",
   "metadata": {},
   "outputs": [
    {
     "data": {
      "text/plain": [
       "[10, 20, 30, 40, 50, 80]"
      ]
     },
     "execution_count": 31,
     "metadata": {},
     "output_type": "execute_result"
    }
   ],
   "source": [
    "newList"
   ]
  },
  {
   "cell_type": "code",
   "execution_count": 32,
   "id": "426b3c51-35e9-4522-abdf-db19dffcc045",
   "metadata": {},
   "outputs": [
    {
     "data": {
      "text/plain": [
       "80"
      ]
     },
     "execution_count": 32,
     "metadata": {},
     "output_type": "execute_result"
    }
   ],
   "source": [
    "newList.pop() #if not defined then it will pop from the ending index"
   ]
  },
  {
   "cell_type": "code",
   "execution_count": 33,
   "id": "71d1516b-4cf1-46b8-8c3c-dbe83cb2e2f3",
   "metadata": {},
   "outputs": [
    {
     "data": {
      "text/plain": [
       "[10, 20, 30, 40, 50]"
      ]
     },
     "execution_count": 33,
     "metadata": {},
     "output_type": "execute_result"
    }
   ],
   "source": [
    "newList"
   ]
  },
  {
   "cell_type": "code",
   "execution_count": 34,
   "id": "6ddd7c1e-db3b-41ad-b71a-303423191e9a",
   "metadata": {},
   "outputs": [
    {
     "data": {
      "text/plain": [
       "[10, 20, 35, 30, 40, 50]"
      ]
     },
     "execution_count": 34,
     "metadata": {},
     "output_type": "execute_result"
    }
   ],
   "source": [
    "newList.insert(2, 35) #insert the content 35 at the index 2 and other are shift to the right\n",
    "newList"
   ]
  },
  {
   "cell_type": "code",
   "execution_count": 35,
   "id": "6253d328-d49e-4a60-aba4-8bec02701d10",
   "metadata": {},
   "outputs": [
    {
     "data": {
      "text/plain": [
       "[50, 40, 30, 35, 20, 10]"
      ]
     },
     "execution_count": 35,
     "metadata": {},
     "output_type": "execute_result"
    }
   ],
   "source": [
    "newList.reverse() #it will reverse the list\n",
    "newList"
   ]
  },
  {
   "cell_type": "code",
   "execution_count": 36,
   "id": "0fbf932a-07de-46d7-843d-bc00daeacbc9",
   "metadata": {},
   "outputs": [
    {
     "data": {
      "text/plain": [
       "[10, 20, 30, 35, 40, 50]"
      ]
     },
     "execution_count": 36,
     "metadata": {},
     "output_type": "execute_result"
    }
   ],
   "source": [
    "newList.sort() #it will sort the list\n",
    "newList"
   ]
  },
  {
   "cell_type": "code",
   "execution_count": 37,
   "id": "4bb57950-c5ec-4bd6-b7b0-eb8b1841873b",
   "metadata": {},
   "outputs": [
    {
     "data": {
      "text/plain": [
       "[]"
      ]
     },
     "execution_count": 37,
     "metadata": {},
     "output_type": "execute_result"
    }
   ],
   "source": [
    "newList.clear() #it will remove all content from the list and make empty list\n",
    "newList"
   ]
  },
  {
   "cell_type": "code",
   "execution_count": null,
   "id": "4b357492-f9c3-4fb2-8e03-8887931dd445",
   "metadata": {},
   "outputs": [],
   "source": []
  }
 ],
 "metadata": {
  "kernelspec": {
   "display_name": "Python 3 (ipykernel)",
   "language": "python",
   "name": "python3"
  },
  "language_info": {
   "codemirror_mode": {
    "name": "ipython",
    "version": 3
   },
   "file_extension": ".py",
   "mimetype": "text/x-python",
   "name": "python",
   "nbconvert_exporter": "python",
   "pygments_lexer": "ipython3",
   "version": "3.12.1"
  }
 },
 "nbformat": 4,
 "nbformat_minor": 5
}
