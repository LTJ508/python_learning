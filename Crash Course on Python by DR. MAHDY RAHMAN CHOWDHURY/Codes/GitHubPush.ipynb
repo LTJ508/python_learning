{
 "cells": [
  {
   "cell_type": "markdown",
   "id": "402993c5-5ccb-46f1-b07c-bc159508bfe2",
   "metadata": {},
   "source": [
    "# GitHub Push from Jupyter Lab Directly"
   ]
  },
  {
   "cell_type": "markdown",
   "id": "c363ca62-53fb-4344-93b2-48532904500c",
   "metadata": {},
   "source": [
    "!git add .\n",
    "!git commit -m \"Practiced some python code from Video Part-1\"\n",
    "!git push origin main"
   ]
  },
  {
   "cell_type": "code",
   "execution_count": null,
   "id": "fe923c28-4324-4b96-8ce7-a6774d6c8fe5",
   "metadata": {},
   "outputs": [],
   "source": []
  }
 ],
 "metadata": {
  "kernelspec": {
   "display_name": "Python 3 (ipykernel)",
   "language": "python",
   "name": "python3"
  },
  "language_info": {
   "codemirror_mode": {
    "name": "ipython",
    "version": 3
   },
   "file_extension": ".py",
   "mimetype": "text/x-python",
   "name": "python",
   "nbconvert_exporter": "python",
   "pygments_lexer": "ipython3",
   "version": "3.12.1"
  }
 },
 "nbformat": 4,
 "nbformat_minor": 5
}
